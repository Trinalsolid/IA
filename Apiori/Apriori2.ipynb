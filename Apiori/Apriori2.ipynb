{
  "cells": [
    {
      "cell_type": "markdown",
      "metadata": {
        "id": "qm5lmIq9Xe-a"
      },
      "source": [
        "**Regras de associação**\n",
        "\n",
        "**Algoritmo Apriori**\n",
        "\n",
        "**Veja: https://www.youtube.com/watch?v=0v6PiOpsJi8**"
      ]
    },
    {
      "cell_type": "code",
      "execution_count": 82,
      "metadata": {
        "colab": {
          "base_uri": "https://localhost:8080/"
        },
        "id": "2bZM-_AsBVca",
        "outputId": "eb562175-4c00-425a-8bcc-91b37581f866"
      },
      "outputs": [
        {
          "name": "stdout",
          "output_type": "stream",
          "text": [
            "Requirement already satisfied: apyori in c:\\users\\user\\appdata\\local\\programs\\python\\python310\\lib\\site-packages (1.1.2)\n",
            "Note: you may need to restart the kernel to use updated packages.\n"
          ]
        },
        {
          "name": "stderr",
          "output_type": "stream",
          "text": [
            "\n",
            "[notice] A new release of pip is available: 23.0.1 -> 25.0.1\n",
            "[notice] To update, run: python.exe -m pip install --upgrade pip\n"
          ]
        },
        {
          "name": "stdout",
          "output_type": "stream",
          "text": [
            "Requirement already satisfied: pandas in c:\\users\\user\\appdata\\local\\programs\\python\\python310\\lib\\site-packages (2.2.3)Note: you may need to restart the kernel to use updated packages.\n",
            "\n",
            "Requirement already satisfied: python-dateutil>=2.8.2 in c:\\users\\user\\appdata\\roaming\\python\\python310\\site-packages (from pandas) (2.9.0.post0)\n",
            "Requirement already satisfied: pytz>=2020.1 in c:\\users\\user\\appdata\\local\\programs\\python\\python310\\lib\\site-packages (from pandas) (2025.2)\n",
            "Requirement already satisfied: tzdata>=2022.7 in c:\\users\\user\\appdata\\local\\programs\\python\\python310\\lib\\site-packages (from pandas) (2025.2)\n",
            "Requirement already satisfied: numpy>=1.22.4 in c:\\users\\user\\appdata\\local\\programs\\python\\python310\\lib\\site-packages (from pandas) (2.2.4)\n",
            "Requirement already satisfied: six>=1.5 in c:\\users\\user\\appdata\\roaming\\python\\python310\\site-packages (from python-dateutil>=2.8.2->pandas) (1.17.0)\n"
          ]
        },
        {
          "name": "stderr",
          "output_type": "stream",
          "text": [
            "\n",
            "[notice] A new release of pip is available: 23.0.1 -> 25.0.1\n",
            "[notice] To update, run: python.exe -m pip install --upgrade pip\n"
          ]
        }
      ],
      "source": [
        "%pip install apyori\n",
        "%pip install pandas"
      ]
    },
    {
      "cell_type": "code",
      "execution_count": 83,
      "metadata": {
        "id": "m3d_ivF4Bcn5"
      },
      "outputs": [],
      "source": [
        "import pandas as pd\n",
        "from apyori import apriori"
      ]
    },
    {
      "cell_type": "code",
      "execution_count": 84,
      "metadata": {
        "colab": {
          "base_uri": "https://localhost:8080/",
          "height": 268
        },
        "id": "fGx34zCzBkw1",
        "outputId": "374599c5-d21a-4db9-d0f3-b459a86a910a"
      },
      "outputs": [
        {
          "data": {
            "text/html": [
              "<div>\n",
              "<style scoped>\n",
              "    .dataframe tbody tr th:only-of-type {\n",
              "        vertical-align: middle;\n",
              "    }\n",
              "\n",
              "    .dataframe tbody tr th {\n",
              "        vertical-align: top;\n",
              "    }\n",
              "\n",
              "    .dataframe thead th {\n",
              "        text-align: right;\n",
              "    }\n",
              "</style>\n",
              "<table border=\"1\" class=\"dataframe\">\n",
              "  <thead>\n",
              "    <tr style=\"text-align: right;\">\n",
              "      <th></th>\n",
              "      <th>0</th>\n",
              "      <th>1</th>\n",
              "      <th>2</th>\n",
              "      <th>3</th>\n",
              "      <th>4</th>\n",
              "      <th>5</th>\n",
              "      <th>6</th>\n",
              "    </tr>\n",
              "  </thead>\n",
              "  <tbody>\n",
              "    <tr>\n",
              "      <th>0</th>\n",
              "      <td>NÃ£o</td>\n",
              "      <td>CafÃ©</td>\n",
              "      <td>NÃ£o</td>\n",
              "      <td>PÃ£o</td>\n",
              "      <td>Manteiga</td>\n",
              "      <td>NÃ£o</td>\n",
              "      <td>NÃ£o</td>\n",
              "    </tr>\n",
              "    <tr>\n",
              "      <th>1</th>\n",
              "      <td>Leite</td>\n",
              "      <td>NÃ£o</td>\n",
              "      <td>Cerveja</td>\n",
              "      <td>PÃ£o</td>\n",
              "      <td>Manteiga</td>\n",
              "      <td>NÃ£o</td>\n",
              "      <td>NÃ£o</td>\n",
              "    </tr>\n",
              "    <tr>\n",
              "      <th>2</th>\n",
              "      <td>NÃ£o</td>\n",
              "      <td>CafÃ©</td>\n",
              "      <td>NÃ£o</td>\n",
              "      <td>PÃ£o</td>\n",
              "      <td>Manteiga</td>\n",
              "      <td>NÃ£o</td>\n",
              "      <td>NÃ£o</td>\n",
              "    </tr>\n",
              "    <tr>\n",
              "      <th>3</th>\n",
              "      <td>Leite</td>\n",
              "      <td>CafÃ©</td>\n",
              "      <td>NÃ£o</td>\n",
              "      <td>PÃ£o</td>\n",
              "      <td>Manteiga</td>\n",
              "      <td>NÃ£o</td>\n",
              "      <td>NÃ£o</td>\n",
              "    </tr>\n",
              "    <tr>\n",
              "      <th>4</th>\n",
              "      <td>NÃ£o</td>\n",
              "      <td>NÃ£o</td>\n",
              "      <td>Cerveja</td>\n",
              "      <td>NÃ£o</td>\n",
              "      <td>NÃ£o</td>\n",
              "      <td>NÃ£o</td>\n",
              "      <td>NÃ£o</td>\n",
              "    </tr>\n",
              "    <tr>\n",
              "      <th>5</th>\n",
              "      <td>NÃ£o</td>\n",
              "      <td>NÃ£o</td>\n",
              "      <td>NÃ£o</td>\n",
              "      <td>NÃ£o</td>\n",
              "      <td>Manteiga</td>\n",
              "      <td>NÃ£o</td>\n",
              "      <td>NÃ£o</td>\n",
              "    </tr>\n",
              "    <tr>\n",
              "      <th>6</th>\n",
              "      <td>NÃ£o</td>\n",
              "      <td>NÃ£o</td>\n",
              "      <td>NÃ£o</td>\n",
              "      <td>PÃ£o</td>\n",
              "      <td>NÃ£o</td>\n",
              "      <td>NÃ£o</td>\n",
              "      <td>NÃ£o</td>\n",
              "    </tr>\n",
              "    <tr>\n",
              "      <th>7</th>\n",
              "      <td>NÃ£o</td>\n",
              "      <td>NÃ£o</td>\n",
              "      <td>NÃ£o</td>\n",
              "      <td>NÃ£o</td>\n",
              "      <td>NÃ£o</td>\n",
              "      <td>NÃ£o</td>\n",
              "      <td>FeijÃ£o</td>\n",
              "    </tr>\n",
              "    <tr>\n",
              "      <th>8</th>\n",
              "      <td>NÃ£o</td>\n",
              "      <td>NÃ£o</td>\n",
              "      <td>NÃ£o</td>\n",
              "      <td>NÃ£o</td>\n",
              "      <td>NÃ£o</td>\n",
              "      <td>Arroz</td>\n",
              "      <td>FeijÃ£o</td>\n",
              "    </tr>\n",
              "    <tr>\n",
              "      <th>9</th>\n",
              "      <td>NÃ£o</td>\n",
              "      <td>NÃ£o</td>\n",
              "      <td>NÃ£o</td>\n",
              "      <td>NÃ£o</td>\n",
              "      <td>NÃ£o</td>\n",
              "      <td>Arroz</td>\n",
              "      <td>NÃ£o</td>\n",
              "    </tr>\n",
              "  </tbody>\n",
              "</table>\n",
              "</div>"
            ],
            "text/plain": [
              "       0      1        2     3         4      5        6\n",
              "0   NÃ£o  CafÃ©     NÃ£o  PÃ£o  Manteiga   NÃ£o     NÃ£o\n",
              "1  Leite   NÃ£o  Cerveja  PÃ£o  Manteiga   NÃ£o     NÃ£o\n",
              "2   NÃ£o  CafÃ©     NÃ£o  PÃ£o  Manteiga   NÃ£o     NÃ£o\n",
              "3  Leite  CafÃ©     NÃ£o  PÃ£o  Manteiga   NÃ£o     NÃ£o\n",
              "4   NÃ£o   NÃ£o  Cerveja  NÃ£o      NÃ£o   NÃ£o     NÃ£o\n",
              "5   NÃ£o   NÃ£o     NÃ£o  NÃ£o  Manteiga   NÃ£o     NÃ£o\n",
              "6   NÃ£o   NÃ£o     NÃ£o  PÃ£o      NÃ£o   NÃ£o     NÃ£o\n",
              "7   NÃ£o   NÃ£o     NÃ£o  NÃ£o      NÃ£o   NÃ£o  FeijÃ£o\n",
              "8   NÃ£o   NÃ£o     NÃ£o  NÃ£o      NÃ£o  Arroz  FeijÃ£o\n",
              "9   NÃ£o   NÃ£o     NÃ£o  NÃ£o      NÃ£o  Arroz     NÃ£o"
            ]
          },
          "execution_count": 84,
          "metadata": {},
          "output_type": "execute_result"
        }
      ],
      "source": [
        "#encoding = \"cp1252\", encoding='utf-8', encoding='latin1'etc\n",
        "base= pd.read_csv('PãoeManteigaSimNao.csv', sep=';',encoding='cp1252', header=None)\n",
        "base"
      ]
    },
    {
      "cell_type": "code",
      "execution_count": 85,
      "metadata": {
        "colab": {
          "base_uri": "https://localhost:8080/"
        },
        "id": "oIBsczbGCxWf",
        "outputId": "ff04c1bb-934a-452d-9c98-3eaa99c09af7"
      },
      "outputs": [
        {
          "data": {
            "text/plain": [
              "(10, 7)"
            ]
          },
          "execution_count": 85,
          "metadata": {},
          "output_type": "execute_result"
        }
      ],
      "source": [
        "base.shape"
      ]
    },
    {
      "cell_type": "markdown",
      "metadata": {
        "id": "cQyNolxV37tx"
      },
      "source": [
        "**Como estaremos treinando um modelo a priori, que recebe entradas em formato de lista, precisamos transformar o dataframe em uma lista de transações.**"
      ]
    },
    {
      "cell_type": "code",
      "execution_count": 98,
      "metadata": {
        "id": "ZF8i0EdWCMjY"
      },
      "outputs": [],
      "source": [
        "transacoes = []\n",
        "for i in range(len(base)):\n",
        "  #print(i)\n",
        "  #print(base_mercado1.values[i, 0])\n",
        "  transacoes.append([str(base.values[i, j]) for j in range(base.shape[1])])"
      ]
    },
    {
      "cell_type": "code",
      "execution_count": 87,
      "metadata": {
        "colab": {
          "base_uri": "https://localhost:8080/"
        },
        "id": "XH2CNc6VC3e3",
        "outputId": "eac451b7-7c6b-4cdc-9926-caf1468ad8fe"
      },
      "outputs": [
        {
          "data": {
            "text/plain": [
              "[['NÃ£o', 'CafÃ©', 'NÃ£o', 'PÃ£o', 'Manteiga', 'NÃ£o', 'NÃ£o'],\n",
              " ['Leite', 'NÃ£o', 'Cerveja', 'PÃ£o', 'Manteiga', 'NÃ£o', 'NÃ£o'],\n",
              " ['NÃ£o', 'CafÃ©', 'NÃ£o', 'PÃ£o', 'Manteiga', 'NÃ£o', 'NÃ£o'],\n",
              " ['Leite', 'CafÃ©', 'NÃ£o', 'PÃ£o', 'Manteiga', 'NÃ£o', 'NÃ£o'],\n",
              " ['NÃ£o', 'NÃ£o', 'Cerveja', 'NÃ£o', 'NÃ£o', 'NÃ£o', 'NÃ£o'],\n",
              " ['NÃ£o', 'NÃ£o', 'NÃ£o', 'NÃ£o', 'Manteiga', 'NÃ£o', 'NÃ£o'],\n",
              " ['NÃ£o', 'NÃ£o', 'NÃ£o', 'PÃ£o', 'NÃ£o', 'NÃ£o', 'NÃ£o'],\n",
              " ['NÃ£o', 'NÃ£o', 'NÃ£o', 'NÃ£o', 'NÃ£o', 'NÃ£o', 'FeijÃ£o'],\n",
              " ['NÃ£o', 'NÃ£o', 'NÃ£o', 'NÃ£o', 'NÃ£o', 'Arroz', 'FeijÃ£o'],\n",
              " ['NÃ£o', 'NÃ£o', 'NÃ£o', 'NÃ£o', 'NÃ£o', 'Arroz', 'NÃ£o']]"
            ]
          },
          "execution_count": 87,
          "metadata": {},
          "output_type": "execute_result"
        }
      ],
      "source": [
        "transacoes"
      ]
    },
    {
      "cell_type": "code",
      "execution_count": 88,
      "metadata": {
        "colab": {
          "base_uri": "https://localhost:8080/"
        },
        "id": "jF4Ec_ryDNfw",
        "outputId": "c23f148b-86d9-4115-f247-0c23d218ef31"
      },
      "outputs": [
        {
          "data": {
            "text/plain": [
              "list"
            ]
          },
          "execution_count": 88,
          "metadata": {},
          "output_type": "execute_result"
        }
      ],
      "source": [
        "type(transacoes)"
      ]
    },
    {
      "cell_type": "markdown",
      "metadata": {
        "id": "ggzA0uJg_3Ns"
      },
      "source": [
        "**Vamos chamar executar o algoritmo apriori e armazenar as regras obtidas**"
      ]
    },
    {
      "cell_type": "code",
      "execution_count": 100,
      "metadata": {
        "colab": {
          "base_uri": "https://localhost:8080/"
        },
        "id": "DuX5YuabzqfQ",
        "outputId": "a1b2c83c-b59a-4d8a-f571-497332f55288"
      },
      "outputs": [
        {
          "name": "stdout",
          "output_type": "stream",
          "text": [
            "12\n",
            "[RelationRecord(items=frozenset({'NÃ£o'}), support=1.0, ordered_statistics=[OrderedStatistic(items_base=frozenset(), items_add=frozenset({'NÃ£o'}), confidence=1.0, lift=1.0)]), RelationRecord(items=frozenset({'CafÃ©', 'Manteiga'}), support=0.3, ordered_statistics=[OrderedStatistic(items_base=frozenset({'CafÃ©'}), items_add=frozenset({'Manteiga'}), confidence=1.0, lift=2.0)]), RelationRecord(items=frozenset({'CafÃ©', 'NÃ£o'}), support=0.3, ordered_statistics=[OrderedStatistic(items_base=frozenset({'CafÃ©'}), items_add=frozenset({'NÃ£o'}), confidence=1.0, lift=1.0)]), RelationRecord(items=frozenset({'CafÃ©', 'PÃ£o'}), support=0.3, ordered_statistics=[OrderedStatistic(items_base=frozenset({'CafÃ©'}), items_add=frozenset({'PÃ£o'}), confidence=1.0, lift=2.0)]), RelationRecord(items=frozenset({'NÃ£o', 'Manteiga'}), support=0.5, ordered_statistics=[OrderedStatistic(items_base=frozenset({'Manteiga'}), items_add=frozenset({'NÃ£o'}), confidence=1.0, lift=1.0)]), RelationRecord(items=frozenset({'Manteiga', 'PÃ£o'}), support=0.4, ordered_statistics=[OrderedStatistic(items_base=frozenset({'Manteiga'}), items_add=frozenset({'PÃ£o'}), confidence=0.8, lift=1.6), OrderedStatistic(items_base=frozenset({'PÃ£o'}), items_add=frozenset({'Manteiga'}), confidence=0.8, lift=1.6)]), RelationRecord(items=frozenset({'NÃ£o', 'PÃ£o'}), support=0.5, ordered_statistics=[OrderedStatistic(items_base=frozenset({'PÃ£o'}), items_add=frozenset({'NÃ£o'}), confidence=1.0, lift=1.0)]), RelationRecord(items=frozenset({'CafÃ©', 'NÃ£o', 'Manteiga'}), support=0.3, ordered_statistics=[OrderedStatistic(items_base=frozenset({'CafÃ©'}), items_add=frozenset({'NÃ£o', 'Manteiga'}), confidence=1.0, lift=2.0), OrderedStatistic(items_base=frozenset({'CafÃ©', 'Manteiga'}), items_add=frozenset({'NÃ£o'}), confidence=1.0, lift=1.0), OrderedStatistic(items_base=frozenset({'CafÃ©', 'NÃ£o'}), items_add=frozenset({'Manteiga'}), confidence=1.0, lift=2.0)]), RelationRecord(items=frozenset({'CafÃ©', 'Manteiga', 'PÃ£o'}), support=0.3, ordered_statistics=[OrderedStatistic(items_base=frozenset({'CafÃ©'}), items_add=frozenset({'Manteiga', 'PÃ£o'}), confidence=1.0, lift=2.5), OrderedStatistic(items_base=frozenset({'CafÃ©', 'Manteiga'}), items_add=frozenset({'PÃ£o'}), confidence=1.0, lift=2.0), OrderedStatistic(items_base=frozenset({'CafÃ©', 'PÃ£o'}), items_add=frozenset({'Manteiga'}), confidence=1.0, lift=2.0)]), RelationRecord(items=frozenset({'CafÃ©', 'NÃ£o', 'PÃ£o'}), support=0.3, ordered_statistics=[OrderedStatistic(items_base=frozenset({'CafÃ©'}), items_add=frozenset({'NÃ£o', 'PÃ£o'}), confidence=1.0, lift=2.0), OrderedStatistic(items_base=frozenset({'CafÃ©', 'NÃ£o'}), items_add=frozenset({'PÃ£o'}), confidence=1.0, lift=2.0), OrderedStatistic(items_base=frozenset({'CafÃ©', 'PÃ£o'}), items_add=frozenset({'NÃ£o'}), confidence=1.0, lift=1.0)]), RelationRecord(items=frozenset({'NÃ£o', 'Manteiga', 'PÃ£o'}), support=0.4, ordered_statistics=[OrderedStatistic(items_base=frozenset({'Manteiga'}), items_add=frozenset({'NÃ£o', 'PÃ£o'}), confidence=0.8, lift=1.6), OrderedStatistic(items_base=frozenset({'PÃ£o'}), items_add=frozenset({'NÃ£o', 'Manteiga'}), confidence=0.8, lift=1.6), OrderedStatistic(items_base=frozenset({'NÃ£o', 'Manteiga'}), items_add=frozenset({'PÃ£o'}), confidence=0.8, lift=1.6), OrderedStatistic(items_base=frozenset({'Manteiga', 'PÃ£o'}), items_add=frozenset({'NÃ£o'}), confidence=1.0, lift=1.0), OrderedStatistic(items_base=frozenset({'NÃ£o', 'PÃ£o'}), items_add=frozenset({'Manteiga'}), confidence=0.8, lift=1.6)]), RelationRecord(items=frozenset({'CafÃ©', 'NÃ£o', 'Manteiga', 'PÃ£o'}), support=0.3, ordered_statistics=[OrderedStatistic(items_base=frozenset({'CafÃ©'}), items_add=frozenset({'NÃ£o', 'Manteiga', 'PÃ£o'}), confidence=1.0, lift=2.5), OrderedStatistic(items_base=frozenset({'CafÃ©', 'Manteiga'}), items_add=frozenset({'NÃ£o', 'PÃ£o'}), confidence=1.0, lift=2.0), OrderedStatistic(items_base=frozenset({'CafÃ©', 'NÃ£o'}), items_add=frozenset({'Manteiga', 'PÃ£o'}), confidence=1.0, lift=2.5), OrderedStatistic(items_base=frozenset({'CafÃ©', 'PÃ£o'}), items_add=frozenset({'NÃ£o', 'Manteiga'}), confidence=1.0, lift=2.0), OrderedStatistic(items_base=frozenset({'CafÃ©', 'NÃ£o', 'Manteiga'}), items_add=frozenset({'PÃ£o'}), confidence=1.0, lift=2.0), OrderedStatistic(items_base=frozenset({'CafÃ©', 'Manteiga', 'PÃ£o'}), items_add=frozenset({'NÃ£o'}), confidence=1.0, lift=1.0), OrderedStatistic(items_base=frozenset({'CafÃ©', 'NÃ£o', 'PÃ£o'}), items_add=frozenset({'Manteiga'}), confidence=1.0, lift=2.0)])]\n",
            "Itemset: ['NÃ£o'], Suporte: 1.00\n",
            "Itemset: ['CafÃ©', 'Manteiga'], Suporte: 0.30\n",
            "Itemset: ['CafÃ©', 'NÃ£o'], Suporte: 0.30\n",
            "Itemset: ['CafÃ©', 'PÃ£o'], Suporte: 0.30\n",
            "Itemset: ['NÃ£o', 'Manteiga'], Suporte: 0.50\n",
            "Itemset: ['Manteiga', 'PÃ£o'], Suporte: 0.40\n",
            "Itemset: ['NÃ£o', 'PÃ£o'], Suporte: 0.50\n",
            "Itemset: ['CafÃ©', 'NÃ£o', 'Manteiga'], Suporte: 0.30\n",
            "Itemset: ['CafÃ©', 'Manteiga', 'PÃ£o'], Suporte: 0.30\n",
            "Itemset: ['CafÃ©', 'NÃ£o', 'PÃ£o'], Suporte: 0.30\n",
            "Itemset: ['NÃ£o', 'Manteiga', 'PÃ£o'], Suporte: 0.40\n",
            "Itemset: ['CafÃ©', 'NÃ£o', 'Manteiga', 'PÃ£o'], Suporte: 0.30\n"
          ]
        }
      ],
      "source": [
        "regras = apriori(transacoes, min_support = 0.3, min_confidence = 0.8)\n",
        "saida = list(regras)\n",
        "print(len(saida))\n",
        "print(saida)\n",
        "\n",
        "regras = apriori(transacoes, min_support=0.3, min_confidence=0.8)\n",
        "saida = list(regras)\n",
        "\n",
        "for regra in saida:\n",
        "    itens = list(regra.items)\n",
        "    suporte = regra.support\n",
        "    print(f\"Itemset: {itens}, Suporte: {suporte:.2f}\")"
      ]
    },
    {
      "cell_type": "markdown",
      "metadata": {},
      "source": []
    },
    {
      "cell_type": "code",
      "execution_count": 90,
      "metadata": {
        "colab": {
          "base_uri": "https://localhost:8080/"
        },
        "id": "l4vMQUJfHu0e",
        "outputId": "5f387517-3c8d-4e0c-c437-2cef2a919b59"
      },
      "outputs": [
        {
          "name": "stdout",
          "output_type": "stream",
          "text": [
            "RelationRecord(items=frozenset({'NÃ£o'}), support=1.0, ordered_statistics=[OrderedStatistic(items_base=frozenset(), items_add=frozenset({'NÃ£o'}), confidence=1.0, lift=1.0)])\n"
          ]
        }
      ],
      "source": [
        "print(saida[0])"
      ]
    },
    {
      "cell_type": "code",
      "execution_count": null,
      "metadata": {
        "id": "3Z90YDOaXluf"
      },
      "outputs": [],
      "source": []
    },
    {
      "cell_type": "code",
      "execution_count": 91,
      "metadata": {
        "colab": {
          "base_uri": "https://localhost:8080/"
        },
        "id": "M0hNno4uPcs9",
        "outputId": "b021d176-1cd6-491e-cebb-26d276b77b2a"
      },
      "outputs": [
        {
          "name": "stdout",
          "output_type": "stream",
          "text": [
            "RelationRecord(items=frozenset({'CafÃ©', 'Manteiga'}), support=0.3, ordered_statistics=[OrderedStatistic(items_base=frozenset({'CafÃ©'}), items_add=frozenset({'Manteiga'}), confidence=1.0, lift=2.0)])\n"
          ]
        }
      ],
      "source": [
        "print(saida[1])"
      ]
    },
    {
      "cell_type": "code",
      "execution_count": 92,
      "metadata": {
        "colab": {
          "base_uri": "https://localhost:8080/"
        },
        "id": "0ZMoSVL_9aXP",
        "outputId": "5d41583b-c3a9-4910-883a-d2fae74a47dd"
      },
      "outputs": [
        {
          "name": "stdout",
          "output_type": "stream",
          "text": [
            "RelationRecord(items=frozenset({'CafÃ©', 'NÃ£o'}), support=0.3, ordered_statistics=[OrderedStatistic(items_base=frozenset({'CafÃ©'}), items_add=frozenset({'NÃ£o'}), confidence=1.0, lift=1.0)])\n"
          ]
        }
      ],
      "source": [
        "print(saida[2])"
      ]
    },
    {
      "cell_type": "markdown",
      "metadata": {
        "id": "soknidg94a2y"
      },
      "source": [
        "**Para facilitar a visualização, veja como transformar isso em um dataframe**\n",
        "\n",
        "Extraído de:\n",
        "\n",
        "https://www.section.io/engineering-education/apriori-algorithm-in-python/\n",
        "\n",
        "https://splunktool.com/understanding-apyoris-output"
      ]
    },
    {
      "cell_type": "code",
      "execution_count": 93,
      "metadata": {
        "id": "UWDno2uo4aL0"
      },
      "outputs": [],
      "source": [
        "Antecedente = []\n",
        "Consequente = []\n",
        "suporte = []\n",
        "confianca = []\n",
        "lift = []\n",
        "RegrasFinais = []\n",
        "\n",
        "for resultado in saida:\n",
        "  s = resultado[1]\n",
        "  result_rules = resultado[2]\n",
        "  for result_rule in result_rules:\n",
        "    a = list(result_rule[0])\n",
        "    b = list(result_rule[1])\n",
        "    c = result_rule[2]\n",
        "    l = result_rule[3]\n",
        "    if 'nan' in a or 'nan' in b: continue\n",
        "    if len(a) == 0 or len(b) == 0: continue\n",
        "    Antecedente.append(a)\n",
        "    Consequente.append(b)\n",
        "    suporte.append(s)\n",
        "    confianca.append(c)\n",
        "    lift.append(l)\n",
        "    RegrasFinais = pd.DataFrame({'Antecedente': Antecedente, 'Consequente': Consequente, 'suporte': suporte, 'confianca': confianca, 'lift': lift})"
      ]
    },
    {
      "cell_type": "code",
      "execution_count": 94,
      "metadata": {
        "colab": {
          "base_uri": "https://localhost:8080/",
          "height": 174
        },
        "id": "QW7wcZbe431-",
        "outputId": "fac9d89c-bc03-4f0b-c917-305b13319ada"
      },
      "outputs": [
        {
          "data": {
            "text/html": [
              "<div>\n",
              "<style scoped>\n",
              "    .dataframe tbody tr th:only-of-type {\n",
              "        vertical-align: middle;\n",
              "    }\n",
              "\n",
              "    .dataframe tbody tr th {\n",
              "        vertical-align: top;\n",
              "    }\n",
              "\n",
              "    .dataframe thead th {\n",
              "        text-align: right;\n",
              "    }\n",
              "</style>\n",
              "<table border=\"1\" class=\"dataframe\">\n",
              "  <thead>\n",
              "    <tr style=\"text-align: right;\">\n",
              "      <th></th>\n",
              "      <th>Antecedente</th>\n",
              "      <th>Consequente</th>\n",
              "      <th>suporte</th>\n",
              "      <th>confianca</th>\n",
              "      <th>lift</th>\n",
              "    </tr>\n",
              "  </thead>\n",
              "  <tbody>\n",
              "    <tr>\n",
              "      <th>0</th>\n",
              "      <td>[CafÃ©]</td>\n",
              "      <td>[Manteiga]</td>\n",
              "      <td>0.3</td>\n",
              "      <td>1.0</td>\n",
              "      <td>2.0</td>\n",
              "    </tr>\n",
              "    <tr>\n",
              "      <th>1</th>\n",
              "      <td>[CafÃ©]</td>\n",
              "      <td>[NÃ£o]</td>\n",
              "      <td>0.3</td>\n",
              "      <td>1.0</td>\n",
              "      <td>1.0</td>\n",
              "    </tr>\n",
              "    <tr>\n",
              "      <th>2</th>\n",
              "      <td>[CafÃ©]</td>\n",
              "      <td>[PÃ£o]</td>\n",
              "      <td>0.3</td>\n",
              "      <td>1.0</td>\n",
              "      <td>2.0</td>\n",
              "    </tr>\n",
              "    <tr>\n",
              "      <th>3</th>\n",
              "      <td>[Manteiga]</td>\n",
              "      <td>[NÃ£o]</td>\n",
              "      <td>0.5</td>\n",
              "      <td>1.0</td>\n",
              "      <td>1.0</td>\n",
              "    </tr>\n",
              "    <tr>\n",
              "      <th>4</th>\n",
              "      <td>[Manteiga]</td>\n",
              "      <td>[PÃ£o]</td>\n",
              "      <td>0.4</td>\n",
              "      <td>0.8</td>\n",
              "      <td>1.6</td>\n",
              "    </tr>\n",
              "    <tr>\n",
              "      <th>5</th>\n",
              "      <td>[PÃ£o]</td>\n",
              "      <td>[Manteiga]</td>\n",
              "      <td>0.4</td>\n",
              "      <td>0.8</td>\n",
              "      <td>1.6</td>\n",
              "    </tr>\n",
              "    <tr>\n",
              "      <th>6</th>\n",
              "      <td>[PÃ£o]</td>\n",
              "      <td>[NÃ£o]</td>\n",
              "      <td>0.5</td>\n",
              "      <td>1.0</td>\n",
              "      <td>1.0</td>\n",
              "    </tr>\n",
              "    <tr>\n",
              "      <th>7</th>\n",
              "      <td>[CafÃ©]</td>\n",
              "      <td>[NÃ£o, Manteiga]</td>\n",
              "      <td>0.3</td>\n",
              "      <td>1.0</td>\n",
              "      <td>2.0</td>\n",
              "    </tr>\n",
              "    <tr>\n",
              "      <th>8</th>\n",
              "      <td>[CafÃ©, Manteiga]</td>\n",
              "      <td>[NÃ£o]</td>\n",
              "      <td>0.3</td>\n",
              "      <td>1.0</td>\n",
              "      <td>1.0</td>\n",
              "    </tr>\n",
              "    <tr>\n",
              "      <th>9</th>\n",
              "      <td>[CafÃ©, NÃ£o]</td>\n",
              "      <td>[Manteiga]</td>\n",
              "      <td>0.3</td>\n",
              "      <td>1.0</td>\n",
              "      <td>2.0</td>\n",
              "    </tr>\n",
              "    <tr>\n",
              "      <th>10</th>\n",
              "      <td>[CafÃ©]</td>\n",
              "      <td>[Manteiga, PÃ£o]</td>\n",
              "      <td>0.3</td>\n",
              "      <td>1.0</td>\n",
              "      <td>2.5</td>\n",
              "    </tr>\n",
              "    <tr>\n",
              "      <th>11</th>\n",
              "      <td>[CafÃ©, Manteiga]</td>\n",
              "      <td>[PÃ£o]</td>\n",
              "      <td>0.3</td>\n",
              "      <td>1.0</td>\n",
              "      <td>2.0</td>\n",
              "    </tr>\n",
              "    <tr>\n",
              "      <th>12</th>\n",
              "      <td>[CafÃ©, PÃ£o]</td>\n",
              "      <td>[Manteiga]</td>\n",
              "      <td>0.3</td>\n",
              "      <td>1.0</td>\n",
              "      <td>2.0</td>\n",
              "    </tr>\n",
              "    <tr>\n",
              "      <th>13</th>\n",
              "      <td>[CafÃ©]</td>\n",
              "      <td>[NÃ£o, PÃ£o]</td>\n",
              "      <td>0.3</td>\n",
              "      <td>1.0</td>\n",
              "      <td>2.0</td>\n",
              "    </tr>\n",
              "    <tr>\n",
              "      <th>14</th>\n",
              "      <td>[CafÃ©, NÃ£o]</td>\n",
              "      <td>[PÃ£o]</td>\n",
              "      <td>0.3</td>\n",
              "      <td>1.0</td>\n",
              "      <td>2.0</td>\n",
              "    </tr>\n",
              "    <tr>\n",
              "      <th>15</th>\n",
              "      <td>[CafÃ©, PÃ£o]</td>\n",
              "      <td>[NÃ£o]</td>\n",
              "      <td>0.3</td>\n",
              "      <td>1.0</td>\n",
              "      <td>1.0</td>\n",
              "    </tr>\n",
              "    <tr>\n",
              "      <th>16</th>\n",
              "      <td>[Manteiga]</td>\n",
              "      <td>[NÃ£o, PÃ£o]</td>\n",
              "      <td>0.4</td>\n",
              "      <td>0.8</td>\n",
              "      <td>1.6</td>\n",
              "    </tr>\n",
              "    <tr>\n",
              "      <th>17</th>\n",
              "      <td>[PÃ£o]</td>\n",
              "      <td>[NÃ£o, Manteiga]</td>\n",
              "      <td>0.4</td>\n",
              "      <td>0.8</td>\n",
              "      <td>1.6</td>\n",
              "    </tr>\n",
              "    <tr>\n",
              "      <th>18</th>\n",
              "      <td>[NÃ£o, Manteiga]</td>\n",
              "      <td>[PÃ£o]</td>\n",
              "      <td>0.4</td>\n",
              "      <td>0.8</td>\n",
              "      <td>1.6</td>\n",
              "    </tr>\n",
              "    <tr>\n",
              "      <th>19</th>\n",
              "      <td>[Manteiga, PÃ£o]</td>\n",
              "      <td>[NÃ£o]</td>\n",
              "      <td>0.4</td>\n",
              "      <td>1.0</td>\n",
              "      <td>1.0</td>\n",
              "    </tr>\n",
              "    <tr>\n",
              "      <th>20</th>\n",
              "      <td>[NÃ£o, PÃ£o]</td>\n",
              "      <td>[Manteiga]</td>\n",
              "      <td>0.4</td>\n",
              "      <td>0.8</td>\n",
              "      <td>1.6</td>\n",
              "    </tr>\n",
              "    <tr>\n",
              "      <th>21</th>\n",
              "      <td>[CafÃ©]</td>\n",
              "      <td>[NÃ£o, Manteiga, PÃ£o]</td>\n",
              "      <td>0.3</td>\n",
              "      <td>1.0</td>\n",
              "      <td>2.5</td>\n",
              "    </tr>\n",
              "    <tr>\n",
              "      <th>22</th>\n",
              "      <td>[CafÃ©, Manteiga]</td>\n",
              "      <td>[NÃ£o, PÃ£o]</td>\n",
              "      <td>0.3</td>\n",
              "      <td>1.0</td>\n",
              "      <td>2.0</td>\n",
              "    </tr>\n",
              "    <tr>\n",
              "      <th>23</th>\n",
              "      <td>[CafÃ©, NÃ£o]</td>\n",
              "      <td>[Manteiga, PÃ£o]</td>\n",
              "      <td>0.3</td>\n",
              "      <td>1.0</td>\n",
              "      <td>2.5</td>\n",
              "    </tr>\n",
              "    <tr>\n",
              "      <th>24</th>\n",
              "      <td>[CafÃ©, PÃ£o]</td>\n",
              "      <td>[NÃ£o, Manteiga]</td>\n",
              "      <td>0.3</td>\n",
              "      <td>1.0</td>\n",
              "      <td>2.0</td>\n",
              "    </tr>\n",
              "    <tr>\n",
              "      <th>25</th>\n",
              "      <td>[CafÃ©, NÃ£o, Manteiga]</td>\n",
              "      <td>[PÃ£o]</td>\n",
              "      <td>0.3</td>\n",
              "      <td>1.0</td>\n",
              "      <td>2.0</td>\n",
              "    </tr>\n",
              "    <tr>\n",
              "      <th>26</th>\n",
              "      <td>[CafÃ©, Manteiga, PÃ£o]</td>\n",
              "      <td>[NÃ£o]</td>\n",
              "      <td>0.3</td>\n",
              "      <td>1.0</td>\n",
              "      <td>1.0</td>\n",
              "    </tr>\n",
              "    <tr>\n",
              "      <th>27</th>\n",
              "      <td>[CafÃ©, NÃ£o, PÃ£o]</td>\n",
              "      <td>[Manteiga]</td>\n",
              "      <td>0.3</td>\n",
              "      <td>1.0</td>\n",
              "      <td>2.0</td>\n",
              "    </tr>\n",
              "  </tbody>\n",
              "</table>\n",
              "</div>"
            ],
            "text/plain": [
              "                Antecedente             Consequente  suporte  confianca  lift\n",
              "0                   [CafÃ©]              [Manteiga]      0.3        1.0   2.0\n",
              "1                   [CafÃ©]                  [NÃ£o]      0.3        1.0   1.0\n",
              "2                   [CafÃ©]                  [PÃ£o]      0.3        1.0   2.0\n",
              "3                [Manteiga]                  [NÃ£o]      0.5        1.0   1.0\n",
              "4                [Manteiga]                  [PÃ£o]      0.4        0.8   1.6\n",
              "5                    [PÃ£o]              [Manteiga]      0.4        0.8   1.6\n",
              "6                    [PÃ£o]                  [NÃ£o]      0.5        1.0   1.0\n",
              "7                   [CafÃ©]        [NÃ£o, Manteiga]      0.3        1.0   2.0\n",
              "8         [CafÃ©, Manteiga]                  [NÃ£o]      0.3        1.0   1.0\n",
              "9             [CafÃ©, NÃ£o]              [Manteiga]      0.3        1.0   2.0\n",
              "10                  [CafÃ©]        [Manteiga, PÃ£o]      0.3        1.0   2.5\n",
              "11        [CafÃ©, Manteiga]                  [PÃ£o]      0.3        1.0   2.0\n",
              "12            [CafÃ©, PÃ£o]              [Manteiga]      0.3        1.0   2.0\n",
              "13                  [CafÃ©]            [NÃ£o, PÃ£o]      0.3        1.0   2.0\n",
              "14            [CafÃ©, NÃ£o]                  [PÃ£o]      0.3        1.0   2.0\n",
              "15            [CafÃ©, PÃ£o]                  [NÃ£o]      0.3        1.0   1.0\n",
              "16               [Manteiga]            [NÃ£o, PÃ£o]      0.4        0.8   1.6\n",
              "17                   [PÃ£o]        [NÃ£o, Manteiga]      0.4        0.8   1.6\n",
              "18         [NÃ£o, Manteiga]                  [PÃ£o]      0.4        0.8   1.6\n",
              "19         [Manteiga, PÃ£o]                  [NÃ£o]      0.4        1.0   1.0\n",
              "20             [NÃ£o, PÃ£o]              [Manteiga]      0.4        0.8   1.6\n",
              "21                  [CafÃ©]  [NÃ£o, Manteiga, PÃ£o]      0.3        1.0   2.5\n",
              "22        [CafÃ©, Manteiga]            [NÃ£o, PÃ£o]      0.3        1.0   2.0\n",
              "23            [CafÃ©, NÃ£o]        [Manteiga, PÃ£o]      0.3        1.0   2.5\n",
              "24            [CafÃ©, PÃ£o]        [NÃ£o, Manteiga]      0.3        1.0   2.0\n",
              "25  [CafÃ©, NÃ£o, Manteiga]                  [PÃ£o]      0.3        1.0   2.0\n",
              "26  [CafÃ©, Manteiga, PÃ£o]                  [NÃ£o]      0.3        1.0   1.0\n",
              "27      [CafÃ©, NÃ£o, PÃ£o]              [Manteiga]      0.3        1.0   2.0"
            ]
          },
          "execution_count": 94,
          "metadata": {},
          "output_type": "execute_result"
        }
      ],
      "source": [
        "RegrasFinais"
      ]
    },
    {
      "cell_type": "markdown",
      "metadata": {
        "id": "DJUXykHjhbJ0"
      },
      "source": [
        "**Podemos ordenar estas regras por uma métrica desejada**"
      ]
    },
    {
      "cell_type": "code",
      "execution_count": 95,
      "metadata": {
        "colab": {
          "base_uri": "https://localhost:8080/",
          "height": 174
        },
        "id": "A7X_YwVHhaxf",
        "outputId": "adb0c396-edfc-4d96-a9c7-5329b3bcb787"
      },
      "outputs": [
        {
          "data": {
            "text/html": [
              "<div>\n",
              "<style scoped>\n",
              "    .dataframe tbody tr th:only-of-type {\n",
              "        vertical-align: middle;\n",
              "    }\n",
              "\n",
              "    .dataframe tbody tr th {\n",
              "        vertical-align: top;\n",
              "    }\n",
              "\n",
              "    .dataframe thead th {\n",
              "        text-align: right;\n",
              "    }\n",
              "</style>\n",
              "<table border=\"1\" class=\"dataframe\">\n",
              "  <thead>\n",
              "    <tr style=\"text-align: right;\">\n",
              "      <th></th>\n",
              "      <th>Antecedente</th>\n",
              "      <th>Consequente</th>\n",
              "      <th>suporte</th>\n",
              "      <th>confianca</th>\n",
              "      <th>lift</th>\n",
              "    </tr>\n",
              "  </thead>\n",
              "  <tbody>\n",
              "    <tr>\n",
              "      <th>10</th>\n",
              "      <td>[CafÃ©]</td>\n",
              "      <td>[Manteiga, PÃ£o]</td>\n",
              "      <td>0.3</td>\n",
              "      <td>1.0</td>\n",
              "      <td>2.5</td>\n",
              "    </tr>\n",
              "    <tr>\n",
              "      <th>23</th>\n",
              "      <td>[CafÃ©, NÃ£o]</td>\n",
              "      <td>[Manteiga, PÃ£o]</td>\n",
              "      <td>0.3</td>\n",
              "      <td>1.0</td>\n",
              "      <td>2.5</td>\n",
              "    </tr>\n",
              "    <tr>\n",
              "      <th>21</th>\n",
              "      <td>[CafÃ©]</td>\n",
              "      <td>[NÃ£o, Manteiga, PÃ£o]</td>\n",
              "      <td>0.3</td>\n",
              "      <td>1.0</td>\n",
              "      <td>2.5</td>\n",
              "    </tr>\n",
              "    <tr>\n",
              "      <th>0</th>\n",
              "      <td>[CafÃ©]</td>\n",
              "      <td>[Manteiga]</td>\n",
              "      <td>0.3</td>\n",
              "      <td>1.0</td>\n",
              "      <td>2.0</td>\n",
              "    </tr>\n",
              "    <tr>\n",
              "      <th>9</th>\n",
              "      <td>[CafÃ©, NÃ£o]</td>\n",
              "      <td>[Manteiga]</td>\n",
              "      <td>0.3</td>\n",
              "      <td>1.0</td>\n",
              "      <td>2.0</td>\n",
              "    </tr>\n",
              "    <tr>\n",
              "      <th>11</th>\n",
              "      <td>[CafÃ©, Manteiga]</td>\n",
              "      <td>[PÃ£o]</td>\n",
              "      <td>0.3</td>\n",
              "      <td>1.0</td>\n",
              "      <td>2.0</td>\n",
              "    </tr>\n",
              "    <tr>\n",
              "      <th>22</th>\n",
              "      <td>[CafÃ©, Manteiga]</td>\n",
              "      <td>[NÃ£o, PÃ£o]</td>\n",
              "      <td>0.3</td>\n",
              "      <td>1.0</td>\n",
              "      <td>2.0</td>\n",
              "    </tr>\n",
              "    <tr>\n",
              "      <th>24</th>\n",
              "      <td>[CafÃ©, PÃ£o]</td>\n",
              "      <td>[NÃ£o, Manteiga]</td>\n",
              "      <td>0.3</td>\n",
              "      <td>1.0</td>\n",
              "      <td>2.0</td>\n",
              "    </tr>\n",
              "    <tr>\n",
              "      <th>13</th>\n",
              "      <td>[CafÃ©]</td>\n",
              "      <td>[NÃ£o, PÃ£o]</td>\n",
              "      <td>0.3</td>\n",
              "      <td>1.0</td>\n",
              "      <td>2.0</td>\n",
              "    </tr>\n",
              "    <tr>\n",
              "      <th>12</th>\n",
              "      <td>[CafÃ©, PÃ£o]</td>\n",
              "      <td>[Manteiga]</td>\n",
              "      <td>0.3</td>\n",
              "      <td>1.0</td>\n",
              "      <td>2.0</td>\n",
              "    </tr>\n",
              "    <tr>\n",
              "      <th>7</th>\n",
              "      <td>[CafÃ©]</td>\n",
              "      <td>[NÃ£o, Manteiga]</td>\n",
              "      <td>0.3</td>\n",
              "      <td>1.0</td>\n",
              "      <td>2.0</td>\n",
              "    </tr>\n",
              "    <tr>\n",
              "      <th>2</th>\n",
              "      <td>[CafÃ©]</td>\n",
              "      <td>[PÃ£o]</td>\n",
              "      <td>0.3</td>\n",
              "      <td>1.0</td>\n",
              "      <td>2.0</td>\n",
              "    </tr>\n",
              "    <tr>\n",
              "      <th>25</th>\n",
              "      <td>[CafÃ©, NÃ£o, Manteiga]</td>\n",
              "      <td>[PÃ£o]</td>\n",
              "      <td>0.3</td>\n",
              "      <td>1.0</td>\n",
              "      <td>2.0</td>\n",
              "    </tr>\n",
              "    <tr>\n",
              "      <th>27</th>\n",
              "      <td>[CafÃ©, NÃ£o, PÃ£o]</td>\n",
              "      <td>[Manteiga]</td>\n",
              "      <td>0.3</td>\n",
              "      <td>1.0</td>\n",
              "      <td>2.0</td>\n",
              "    </tr>\n",
              "    <tr>\n",
              "      <th>14</th>\n",
              "      <td>[CafÃ©, NÃ£o]</td>\n",
              "      <td>[PÃ£o]</td>\n",
              "      <td>0.3</td>\n",
              "      <td>1.0</td>\n",
              "      <td>2.0</td>\n",
              "    </tr>\n",
              "    <tr>\n",
              "      <th>16</th>\n",
              "      <td>[Manteiga]</td>\n",
              "      <td>[NÃ£o, PÃ£o]</td>\n",
              "      <td>0.4</td>\n",
              "      <td>0.8</td>\n",
              "      <td>1.6</td>\n",
              "    </tr>\n",
              "    <tr>\n",
              "      <th>5</th>\n",
              "      <td>[PÃ£o]</td>\n",
              "      <td>[Manteiga]</td>\n",
              "      <td>0.4</td>\n",
              "      <td>0.8</td>\n",
              "      <td>1.6</td>\n",
              "    </tr>\n",
              "    <tr>\n",
              "      <th>4</th>\n",
              "      <td>[Manteiga]</td>\n",
              "      <td>[PÃ£o]</td>\n",
              "      <td>0.4</td>\n",
              "      <td>0.8</td>\n",
              "      <td>1.6</td>\n",
              "    </tr>\n",
              "    <tr>\n",
              "      <th>17</th>\n",
              "      <td>[PÃ£o]</td>\n",
              "      <td>[NÃ£o, Manteiga]</td>\n",
              "      <td>0.4</td>\n",
              "      <td>0.8</td>\n",
              "      <td>1.6</td>\n",
              "    </tr>\n",
              "    <tr>\n",
              "      <th>18</th>\n",
              "      <td>[NÃ£o, Manteiga]</td>\n",
              "      <td>[PÃ£o]</td>\n",
              "      <td>0.4</td>\n",
              "      <td>0.8</td>\n",
              "      <td>1.6</td>\n",
              "    </tr>\n",
              "    <tr>\n",
              "      <th>20</th>\n",
              "      <td>[NÃ£o, PÃ£o]</td>\n",
              "      <td>[Manteiga]</td>\n",
              "      <td>0.4</td>\n",
              "      <td>0.8</td>\n",
              "      <td>1.6</td>\n",
              "    </tr>\n",
              "    <tr>\n",
              "      <th>6</th>\n",
              "      <td>[PÃ£o]</td>\n",
              "      <td>[NÃ£o]</td>\n",
              "      <td>0.5</td>\n",
              "      <td>1.0</td>\n",
              "      <td>1.0</td>\n",
              "    </tr>\n",
              "    <tr>\n",
              "      <th>1</th>\n",
              "      <td>[CafÃ©]</td>\n",
              "      <td>[NÃ£o]</td>\n",
              "      <td>0.3</td>\n",
              "      <td>1.0</td>\n",
              "      <td>1.0</td>\n",
              "    </tr>\n",
              "    <tr>\n",
              "      <th>3</th>\n",
              "      <td>[Manteiga]</td>\n",
              "      <td>[NÃ£o]</td>\n",
              "      <td>0.5</td>\n",
              "      <td>1.0</td>\n",
              "      <td>1.0</td>\n",
              "    </tr>\n",
              "    <tr>\n",
              "      <th>8</th>\n",
              "      <td>[CafÃ©, Manteiga]</td>\n",
              "      <td>[NÃ£o]</td>\n",
              "      <td>0.3</td>\n",
              "      <td>1.0</td>\n",
              "      <td>1.0</td>\n",
              "    </tr>\n",
              "    <tr>\n",
              "      <th>15</th>\n",
              "      <td>[CafÃ©, PÃ£o]</td>\n",
              "      <td>[NÃ£o]</td>\n",
              "      <td>0.3</td>\n",
              "      <td>1.0</td>\n",
              "      <td>1.0</td>\n",
              "    </tr>\n",
              "    <tr>\n",
              "      <th>19</th>\n",
              "      <td>[Manteiga, PÃ£o]</td>\n",
              "      <td>[NÃ£o]</td>\n",
              "      <td>0.4</td>\n",
              "      <td>1.0</td>\n",
              "      <td>1.0</td>\n",
              "    </tr>\n",
              "    <tr>\n",
              "      <th>26</th>\n",
              "      <td>[CafÃ©, Manteiga, PÃ£o]</td>\n",
              "      <td>[NÃ£o]</td>\n",
              "      <td>0.3</td>\n",
              "      <td>1.0</td>\n",
              "      <td>1.0</td>\n",
              "    </tr>\n",
              "  </tbody>\n",
              "</table>\n",
              "</div>"
            ],
            "text/plain": [
              "                Antecedente             Consequente  suporte  confianca  lift\n",
              "10                  [CafÃ©]        [Manteiga, PÃ£o]      0.3        1.0   2.5\n",
              "23            [CafÃ©, NÃ£o]        [Manteiga, PÃ£o]      0.3        1.0   2.5\n",
              "21                  [CafÃ©]  [NÃ£o, Manteiga, PÃ£o]      0.3        1.0   2.5\n",
              "0                   [CafÃ©]              [Manteiga]      0.3        1.0   2.0\n",
              "9             [CafÃ©, NÃ£o]              [Manteiga]      0.3        1.0   2.0\n",
              "11        [CafÃ©, Manteiga]                  [PÃ£o]      0.3        1.0   2.0\n",
              "22        [CafÃ©, Manteiga]            [NÃ£o, PÃ£o]      0.3        1.0   2.0\n",
              "24            [CafÃ©, PÃ£o]        [NÃ£o, Manteiga]      0.3        1.0   2.0\n",
              "13                  [CafÃ©]            [NÃ£o, PÃ£o]      0.3        1.0   2.0\n",
              "12            [CafÃ©, PÃ£o]              [Manteiga]      0.3        1.0   2.0\n",
              "7                   [CafÃ©]        [NÃ£o, Manteiga]      0.3        1.0   2.0\n",
              "2                   [CafÃ©]                  [PÃ£o]      0.3        1.0   2.0\n",
              "25  [CafÃ©, NÃ£o, Manteiga]                  [PÃ£o]      0.3        1.0   2.0\n",
              "27      [CafÃ©, NÃ£o, PÃ£o]              [Manteiga]      0.3        1.0   2.0\n",
              "14            [CafÃ©, NÃ£o]                  [PÃ£o]      0.3        1.0   2.0\n",
              "16               [Manteiga]            [NÃ£o, PÃ£o]      0.4        0.8   1.6\n",
              "5                    [PÃ£o]              [Manteiga]      0.4        0.8   1.6\n",
              "4                [Manteiga]                  [PÃ£o]      0.4        0.8   1.6\n",
              "17                   [PÃ£o]        [NÃ£o, Manteiga]      0.4        0.8   1.6\n",
              "18         [NÃ£o, Manteiga]                  [PÃ£o]      0.4        0.8   1.6\n",
              "20             [NÃ£o, PÃ£o]              [Manteiga]      0.4        0.8   1.6\n",
              "6                    [PÃ£o]                  [NÃ£o]      0.5        1.0   1.0\n",
              "1                   [CafÃ©]                  [NÃ£o]      0.3        1.0   1.0\n",
              "3                [Manteiga]                  [NÃ£o]      0.5        1.0   1.0\n",
              "8         [CafÃ©, Manteiga]                  [NÃ£o]      0.3        1.0   1.0\n",
              "15            [CafÃ©, PÃ£o]                  [NÃ£o]      0.3        1.0   1.0\n",
              "19         [Manteiga, PÃ£o]                  [NÃ£o]      0.4        1.0   1.0\n",
              "26  [CafÃ©, Manteiga, PÃ£o]                  [NÃ£o]      0.3        1.0   1.0"
            ]
          },
          "execution_count": 95,
          "metadata": {},
          "output_type": "execute_result"
        }
      ],
      "source": [
        "RegrasFinais.sort_values(by='lift', ascending =False)"
      ]
    }
  ],
  "metadata": {
    "colab": {
      "provenance": []
    },
    "kernelspec": {
      "display_name": "Python 3",
      "name": "python3"
    },
    "language_info": {
      "codemirror_mode": {
        "name": "ipython",
        "version": 3
      },
      "file_extension": ".py",
      "mimetype": "text/x-python",
      "name": "python",
      "nbconvert_exporter": "python",
      "pygments_lexer": "ipython3",
      "version": "3.10.11"
    }
  },
  "nbformat": 4,
  "nbformat_minor": 0
}
